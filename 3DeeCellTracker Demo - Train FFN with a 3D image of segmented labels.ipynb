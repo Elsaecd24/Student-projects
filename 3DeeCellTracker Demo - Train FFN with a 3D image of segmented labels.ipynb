{
 "cells": [
  {
   "cell_type": "markdown",
   "metadata": {},
   "source": [
    "# 3DeeCellTracker Demo: Train FFN with a 3D image of segmented labels\n",
    "This notebook shows how to train a neural network called FFN for 3D cell tracking.\n",
    "\n",
    "The demo data used in this notebook can be found in the \"worm4\" folder, which can be downloaded from https://osf.io/pgr95/.\n",
    "\n",
    "## The basic procedures:\n",
    "\n",
    "A. Import packages\n",
    "\n",
    "B. Initialize the trainer\n",
    "\n",
    "C. Train FFN"
   ]
  },
  {
   "cell_type": "markdown",
   "metadata": {},
   "source": [
    "# 0 - Prise en charge GPU"
   ]
  },
  {
   "cell_type": "code",
   "execution_count": 1,
   "metadata": {},
   "outputs": [
    {
     "name": "stderr",
     "output_type": "stream",
     "text": [
      "2024-06-05 09:14:48.922871: I tensorflow/stream_executor/platform/default/dso_loader.cc:53] Successfully opened dynamic library libcudart.so.11.0\n",
      "2024-06-05 09:15:18.949499: I tensorflow/stream_executor/platform/default/dso_loader.cc:53] Successfully opened dynamic library libcuda.so.1\n",
      "2024-06-05 09:15:19.030122: I tensorflow/core/common_runtime/gpu/gpu_device.cc:1733] Found device 0 with properties: \n",
      "pciBusID: 0000:a1:00.0 name: Quadro RTX 6000 computeCapability: 7.5\n",
      "coreClock: 1.77GHz coreCount: 72 deviceMemorySize: 23.64GiB deviceMemoryBandwidth: 625.94GiB/s\n",
      "2024-06-05 09:15:19.030179: I tensorflow/stream_executor/platform/default/dso_loader.cc:53] Successfully opened dynamic library libcudart.so.11.0\n",
      "2024-06-05 09:15:19.832887: I tensorflow/stream_executor/platform/default/dso_loader.cc:53] Successfully opened dynamic library libcublas.so.11\n",
      "2024-06-05 09:15:19.832961: I tensorflow/stream_executor/platform/default/dso_loader.cc:53] Successfully opened dynamic library libcublasLt.so.11\n",
      "2024-06-05 09:15:19.953023: I tensorflow/stream_executor/platform/default/dso_loader.cc:53] Successfully opened dynamic library libcufft.so.10\n",
      "2024-06-05 09:15:20.201612: I tensorflow/stream_executor/platform/default/dso_loader.cc:53] Successfully opened dynamic library libcurand.so"
     ]
    },
    {
     "data": {
      "text/plain": [
       "[PhysicalDevice(name='/physical_device:CPU:0', device_type='CPU'),\n",
       " PhysicalDevice(name='/physical_device:GPU:0', device_type='GPU')]"
      ]
     },
     "execution_count": 1,
     "metadata": {},
     "output_type": "execute_result"
    },
    {
     "name": "stderr",
     "output_type": "stream",
     "text": [
      ".10\n",
      "2024-06-05 09:15:20.613068: I tensorflow/stream_executor/platform/default/dso_loader.cc:53] Successfully opened dynamic library libcusolver.so.11\n",
      "2024-06-05 09:15:20.743696: I tensorflow/stream_executor/platform/default/dso_loader.cc:53] Successfully opened dynamic library libcusparse.so.11\n",
      "2024-06-05 09:15:20.761874: I tensorflow/stream_executor/platform/default/dso_loader.cc:53] Successfully opened dynamic library libcudnn.so.8\n",
      "2024-06-05 09:15:20.763820: I tensorflow/core/common_runtime/gpu/gpu_device.cc:1871] Adding visible gpu devices: 0\n"
     ]
    }
   ],
   "source": [
    "import tensorflow as tf\n",
    "tf.config.list_physical_devices(\n",
    "    device_type=None\n",
    ") "
   ]
  },
  {
   "cell_type": "markdown",
   "metadata": {},
   "source": [
    "# A - Import packages"
   ]
  },
  {
   "cell_type": "code",
   "execution_count": 2,
   "metadata": {},
   "outputs": [],
   "source": [
    "from CellTracker.ffn import TrainFFN"
   ]
  },
  {
   "cell_type": "markdown",
   "metadata": {},
   "source": [
    "# B - Initialize the trainer\n",
    "## Parameters\n",
    "segmentation_path: A string that specifies the path to the 2D images of segmented cell labels.\n",
    "model_name: A string specifying the name of the ffn model to save. This name will be used to load the model later.\n",
    "voxel_size: A tuple of 3 numbers, indicating the size (in arbitrary units) of a voxel in the x, y, and z directions.\n",
    "## Notes:\n",
    "By default, the trained model will be saved in the \"ffn_models\" directory. If you want to save the model in a different location, you can specify the basedir parameter and provide the directory path.\n",
    "\n",
    "    ffn_trainer = TrainFFN(points1_path=points_path, model_name=model_name, basedir=\".\\FolderA\\FolderB\\\")"
   ]
  },
  {
   "cell_type": "code",
   "execution_count": 3,
   "metadata": {},
   "outputs": [
    {
     "name": "stderr",
     "output_type": "stream",
     "text": [
      "2024-06-05 09:18:15.717703: I tensorflow/core/platform/cpu_feature_guard.cc:142] This TensorFlow binary is optimized with oneAPI Deep Neural Network Library (oneDNN) to use the following CPU instructions in performance-critical operations:  AVX2 FMA\n",
      "To enable them in other operations, rebuild TensorFlow with the appropriate compiler flags.\n",
      "2024-06-05 09:18:15.739400: I tensorflow/core/common_runtime/gpu/gpu_device.cc:1733] Found device 0 with properties: \n",
      "pciBusID: 0000:a1:00.0 name: Quadro RTX 6000 computeCapability: 7.5\n",
      "coreClock: 1.77GHz coreCount: 72 deviceMemorySize: 23.64GiB deviceMemoryBandwidth: 625.94GiB/s\n",
      "2024-06-05 09:18:15.740790: I tensorflow/core/common_runtime/gpu/gpu_device.cc:1871] Adding visible gpu devices: 0\n",
      "2024-06-05 09:18:15.741235: I tensorflow/stream_executor/platform/default/dso_loader.cc:53] Successfully opened dynamic library libcudart.so.11.0\n",
      "2024-06-05 09:18:19.188135: I tensorflow/core/common_runtime/gpu/gpu_device.cc:1258] Device interconnect StreamExecutor with strength 1 edge matrix:\n",
      "2024-06-05 09:18:19.188208: I tensorflow/core/common_runtime/gpu/gpu_device.cc:1264]      0 \n",
      "2024-06-05 09:18:19.188215: I tensorflow/core/common_runtime/gpu/gpu_device.cc:1277] 0:   N \n",
      "2024-06-05 09:18:19.190606: I tensorflow/core/common_runtime/gpu/gpu_device.cc:1418] Created TensorFlow device (/job:localhost/replica:0/task:0/device:GPU:0 with 22850 MB memory) -> physical GPU (device: 0, name: Quadro RTX 6000, pci bus id: 0000:a1:00.0, compute capability: 7.5)\n"
     ]
    }
   ],
   "source": [
    "segmentation_path = \"./worm1/manual_vol1/*.tif\" \n",
    "model_name = \"ffn_worm4_0001\"\n",
    "voxel_size = (1, 1, 1)\n",
    "\n",
    "ffn_trainer = TrainFFN(model_name=model_name, segmentation1_path=segmentation_path, voxel_size=voxel_size)"
   ]
  },
  {
   "cell_type": "markdown",
   "metadata": {},
   "source": [
    "# C - Train FFN\n",
    "## Parameters\n",
    "num_epochs: An integer specifying the number of epochs for training. A larger number of epochs will require a longer training time. The default value of 100 is a reasonable choice."
   ]
  },
  {
   "cell_type": "code",
   "execution_count": null,
   "metadata": {},
   "outputs": [
    {
     "name": "stderr",
     "output_type": "stream",
     "text": [
      "Epoch 1/100:   0%|    | 0/5000 [00:00<?, ?batch/s]2024-06-05 09:18:39.162201: I tensorflow/stream_executor/platform/default/dso_loader.cc:53] Successfully opened dynamic library libcublas.so.11\n",
      "2024-06-05 09:18:41.174687: I tensorflow/stream_executor/platform/default/dso_loader.cc:53] Successfully opened dynamic library libcublasLt.so.11\n",
      "Epoch 1/100: 5001batch [00:52, 95.44batch/s, Train loss=0.133] \n",
      "Epoch 2/100: 5001batch [00:49, 101.19batch/s, Train loss=0.0961]\n",
      "Epoch 3/100: 5001batch [00:49, 101.39batch/s, Train loss=0.0808]\n",
      "Epoch 4/100: 5001batch [00:49, 101.29batch/s, Train loss=0.0734]\n",
      "Epoch 5/100: 5001batch [00:49, 101.67batch/s, Train loss=0.069]\n",
      "Epoch 6/100: 5001batch [00:48, 102.69batch/s, Train loss=0.0655]\n",
      "Epoch 7/100: 5001batch [00:48, 102.78batch/s, Train loss=0.0621]\n",
      "Epoch 8/100: 5001batch [00:48, 102.57batch/s, Train loss=0.0607]\n",
      "Epoch 9/100: 5001batch [00:49, 101.35batch/s, Train loss=0.0588]\n",
      "Epoch 10/100: 5001batch [00:49, 101.16batch/s, Train loss=0.0576]\n",
      "Epoch 11/100: 5001batch [00:50, 98.87batch/s, Train loss=0.0549]\n",
      "Epoch 12/100: 5001batch [00:50, 98.65batch/s, Train loss=0.0547] \n",
      "Epoch 13/100: 5001batch [00:50, 98.46batch/s, Train loss=0.0529]\n",
      "Epoch 14/100: 5001batch [00:50, 98.98batch/s, Train loss=0.0524] \n",
      "Epoch 15/100: 5001batch [00:50, 99.83batch/s, Train loss=0.0503] \n",
      "Epoch 16/100: 5001batch [00:49, 100.12batch/s, Train loss=0.0483]\n",
      "Epoch 17/100: 5001batch [00:49, 100.92batch/s, Train loss=0.0452]\n",
      "Epoch 18/100: 5001batch [00:49, 100.50batch/s, Train loss=0.0436]\n",
      "Epoch 19/100: 5001batch [00:49, 101.26batch/s, Train loss=0.0414]\n",
      "Epoch 20/100: 5001batch [00:49, 101.12batch/s, Train loss=0.041]\n",
      "Epoch 21/100: 5001batch [00:49, 101.41batch/s, Train loss=0.0408]\n",
      "Epoch 22/100: 5001batch [00:49, 100.88batch/s, Train loss=0.0393]\n",
      "Epoch 23/100: 5001batch [00:49, 101.01batch/s, Train loss=0.0388]\n",
      "Epoch 24/100: 5001batch [00:49, 101.05batch/s, Train loss=0.0384]\n",
      "Epoch 25/100: 5001batch [00:49, 101.02batch/s, Train loss=0.0374]\n",
      "Epoch 26/100: 5001batch [00:49, 100.84batch/s, Train loss=0.0377]\n",
      "Epoch 27/100: 5001batch [00:49, 100.32batch/s, Train loss=0.0364]\n",
      "Epoch 28/100: 5001batch [00:50, 99.39batch/s, Train loss=0.0365] \n",
      "Epoch 29/100: 5001batch [00:50, 99.01batch/s, Train loss=0.0356]\n",
      "Epoch 30/100: 5001batch [00:50, 99.41batch/s, Train loss=0.0361] \n",
      "Epoch 55/100: 5001batch [00:50, 98.92batch/s, Train loss=0.0309]\n",
      "Epoch 57/100: 5001batch [00:49, 100.62batch/s, Train loss=0.0308]\n",
      "Epoch 58/100:  10%| | 490/5000 [00:04<00:41, 107.9IOPub message rate exceeded.\n",
      "The notebook server will temporarily stop sending output\n",
      "to the client in order to avoid crashing it.\n",
      "To change this limit, set the config variable\n",
      "`--NotebookApp.iopub_msg_rate_limit`.\n",
      "\n",
      "Current values:\n",
      "NotebookApp.iopub_msg_rate_limit=1000.0 (msgs/sec)\n",
      "NotebookApp.rate_limit_window=3.0 (secs)\n",
      "\n",
      "Epoch 60/100:  69%|▋| 3439/5000 [00:33<00:15, 102.IOPub message rate exceeded.\n",
      "The notebook server will temporarily stop sending output\n",
      "to the client in order to avoid crashing it.\n",
      "To change this limit, set the config variable\n",
      "`--NotebookApp.iopub_msg_rate_limit`.\n",
      "\n",
      "Current values:\n",
      "NotebookApp.iopub_msg_rate_limit=1000.0 (msgs/sec)\n",
      "NotebookApp.rate_limit_window=3.0 (secs)\n",
      "\n",
      "Epoch 63/100:  58%|▌| 2913/5000 [00:28<00:19, 105.IOPub message rate exceeded.\n",
      "The notebook server will temporarily stop sending output\n",
      "to the client in order to avoid crashing it.\n",
      "To change this limit, set the config variable\n",
      "`--NotebookApp.iopub_msg_rate_limit`.\n",
      "\n",
      "Current values:\n",
      "NotebookApp.iopub_msg_rate_limit=1000.0 (msgs/sec)\n",
      "NotebookApp.rate_limit_window=3.0 (secs)\n",
      "\n",
      "Epoch 65/100: 5001batch [00:49, 101.41batch/s, Train loss=0.0305]\n",
      "Epoch 66/100:   2%| | 81/5000 [00:00<00:46, 105.20IOPub message rate exceeded.\n",
      "The notebook server will temporarily stop sending output\n",
      "to the client in order to avoid crashing it.\n",
      "To change this limit, set the config variable\n",
      "`--NotebookApp.iopub_msg_rate_limit`.\n",
      "\n",
      "Current values:\n",
      "NotebookApp.iopub_msg_rate_limit=1000.0 (msgs/sec)\n",
      "NotebookApp.rate_limit_window=3.0 (secs)\n",
      "\n",
      "Epoch 69/100: 5001batch [00:50, 98.47batch/s, Train loss=0.0293]\n",
      "Epoch 70/100:   3%| | 159/5000 [00:01<00:46, 104.5IOPub message rate exceeded.\n",
      "The notebook server will temporarily stop sending output\n",
      "to the client in order to avoid crashing it.\n",
      "To change this limit, set the config variable\n",
      "`--NotebookApp.iopub_msg_rate_limit`.\n",
      "\n",
      "Current values:\n",
      "NotebookApp.iopub_msg_rate_limit=1000.0 (msgs/sec)\n",
      "NotebookApp.rate_limit_window=3.0 (secs)\n",
      "\n",
      "Epoch 72/100:  60%|▌| 3015/5000 [00:29<00:18, 107.IOPub message rate exceeded.\n",
      "The notebook server will temporarily stop sending output\n",
      "to the client in order to avoid crashing it.\n",
      "To change this limit, set the config variable\n",
      "`--NotebookApp.iopub_msg_rate_limit`.\n",
      "\n",
      "Current values:\n",
      "NotebookApp.iopub_msg_rate_limit=1000.0 (msgs/sec)\n",
      "NotebookApp.rate_limit_window=3.0 (secs)\n",
      "\n",
      "Epoch 75/100:  59%|▌| 2965/5000 [00:29<00:18, 108.IOPub message rate exceeded.\n",
      "The notebook server will temporarily stop sending output\n",
      "to the client in order to avoid crashing it.\n",
      "To change this limit, set the config variable\n",
      "`--NotebookApp.iopub_msg_rate_limit`.\n",
      "\n",
      "Current values:\n",
      "NotebookApp.iopub_msg_rate_limit=1000.0 (msgs/sec)\n",
      "NotebookApp.rate_limit_window=3.0 (secs)\n",
      "\n",
      "Epoch 75/100: 5001batch [00:49, 101.72batch/s, Train loss=0.0297]\n",
      "Epoch 77/100: 5001batch [00:50, 98.68batch/s, Train loss=0.0294] \n",
      "Epoch 78/100:  36%|▎| 1819/5000 [00:18<00:30, 105.IOPub message rate exceeded.\n",
      "The notebook server will temporarily stop sending output\n",
      "to the client in order to avoid crashing it.\n",
      "To change this limit, set the config variable\n",
      "`--NotebookApp.iopub_msg_rate_limit`.\n",
      "\n",
      "Current values:\n",
      "NotebookApp.iopub_msg_rate_limit=1000.0 (msgs/sec)\n",
      "NotebookApp.rate_limit_window=3.0 (secs)\n",
      "\n",
      "Epoch 80/100: 5001batch [00:50, 98.41batch/s, Train loss=0.0294]\n",
      "Epoch 81/100:  42%|▍| 2121/5000 [00:20<00:26, 108.IOPub message rate exceeded.\n",
      "The notebook server will temporarily stop sending output\n",
      "to the client in order to avoid crashing it.\n",
      "To change this limit, set the config variable\n",
      "`--NotebookApp.iopub_msg_rate_limit`.\n",
      "\n",
      "Current values:\n",
      "NotebookApp.iopub_msg_rate_limit=1000.0 (msgs/sec)\n",
      "NotebookApp.rate_limit_window=3.0 (secs)\n",
      "\n",
      "Epoch 81/100: 5001batch [00:50, 99.99batch/s, Train loss=0.0297] \n",
      "Epoch 83/100: 5001batch [00:50, 99.75batch/s, Train loss=0.0289]\n",
      "Epoch 84/100:  26%|▎| 1322/5000 [00:13<00:33, 108.IOPub message rate exceeded.\n",
      "The notebook server will temporarily stop sending output\n",
      "to the client in order to avoid crashing it.\n",
      "To change this limit, set the config variable\n",
      "`--NotebookApp.iopub_msg_rate_limit`.\n",
      "\n",
      "Current values:\n",
      "NotebookApp.iopub_msg_rate_limit=1000.0 (msgs/sec)\n",
      "NotebookApp.rate_limit_window=3.0 (secs)\n",
      "\n",
      "Epoch 84/100: 5001batch [00:49, 101.35batch/s, Train loss=0.0291]\n",
      "Epoch 86/100: 5001batch [00:50, 98.67batch/s, Train loss=0.0291] \n",
      "Epoch 87/100:  27%|▎| 1327/5000 [00:13<00:36, 99.4IOPub message rate exceeded.\n",
      "The notebook server will temporarily stop sending output\n",
      "to the client in order to avoid crashing it.\n",
      "To change this limit, set the config variable\n",
      "`--NotebookApp.iopub_msg_rate_limit`.\n",
      "\n",
      "Current values:\n",
      "NotebookApp.iopub_msg_rate_limit=1000.0 (msgs/sec)\n",
      "NotebookApp.rate_limit_window=3.0 (secs)\n",
      "\n",
      "Epoch 89/100:  92%|▉| 4576/5000 [00:46<00:04, 103.IOPub message rate exceeded.\n",
      "The notebook server will temporarily stop sending output\n",
      "to the client in order to avoid crashing it.\n",
      "To change this limit, set the config variable\n",
      "`--NotebookApp.iopub_msg_rate_limit`.\n",
      "\n",
      "Current values:\n",
      "NotebookApp.iopub_msg_rate_limit=1000.0 (msgs/sec)\n",
      "NotebookApp.rate_limit_window=3.0 (secs)\n",
      "\n",
      "Epoch 92/100:  88%|▉| 4396/5000 [00:44<00:06, 99.4IOPub message rate exceeded.\n",
      "The notebook server will temporarily stop sending output\n",
      "to the client in order to avoid crashing it.\n",
      "To change this limit, set the config variable\n",
      "`--NotebookApp.iopub_msg_rate_limit`.\n",
      "\n",
      "Current values:\n",
      "NotebookApp.iopub_msg_rate_limit=1000.0 (msgs/sec)\n",
      "NotebookApp.rate_limit_window=3.0 (secs)\n",
      "\n",
      "Epoch 99/100:  62%|▌| 3087/5000 [00:31<00:18, 105.IOPub message rate exceeded.\n",
      "The notebook server will temporarily stop sending output\n",
      "to the client in order to avoid crashing it.\n",
      "To change this limit, set the config variable\n",
      "`--NotebookApp.iopub_msg_rate_limit`.\n",
      "\n",
      "Current values:\n",
      "NotebookApp.iopub_msg_rate_limit=1000.0 (msgs/sec)\n",
      "NotebookApp.rate_limit_window=3.0 (secs)\n",
      "\n",
      "Epoch 100/100:  23%|▏| 1156/5000 [00:11<00:36, 106"
     ]
    }
   ],
   "source": [
    "import time\n",
    "start_time = time.time()\n",
    "\n",
    "num_epochs=100\n",
    "\n",
    "ffn_trainer.train(num_epochs=num_epochs)\n",
    "\n",
    "end_time = time.time()\n",
    "execution_time = end_time - start_time\n",
    "print(\"Execution time:\", execution_time, \"secondes\")"
   ]
  },
  {
   "cell_type": "code",
   "execution_count": null,
   "metadata": {},
   "outputs": [],
   "source": []
  }
 ],
 "metadata": {
  "kernelspec": {
   "display_name": "Python [conda env:tf2]",
   "language": "python",
   "name": "conda-env-tf2-py"
  },
  "language_info": {
   "codemirror_mode": {
    "name": "ipython",
    "version": 3
   },
   "file_extension": ".py",
   "mimetype": "text/x-python",
   "name": "python",
   "nbconvert_exporter": "python",
   "pygments_lexer": "ipython3",
   "version": "3.9.18"
  }
 },
 "nbformat": 4,
 "nbformat_minor": 2
}
